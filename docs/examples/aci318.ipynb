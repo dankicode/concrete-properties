{
 "cells": [
  {
   "cell_type": "code",
   "execution_count": 2,
   "id": "fbc6a923-56da-4d00-926c-93f2df8ef950",
   "metadata": {},
   "outputs": [],
   "source": [
    "import matplotlib.pyplot as plt\n",
    "import numpy as np\n",
    "from sectionproperties.pre.library import concrete_rectangular_section\n",
    "\n",
    "from concreteproperties import (\n",
    "    Concrete,\n",
    "    ConcreteSection,\n",
    "    ModifiedMander,\n",
    "    RectangularStressBlock,\n",
    ")\n",
    "from concreteproperties.design_codes import ACI318\n",
    "from concreteproperties.results import (\n",
    "    BiaxialBendingResults,\n",
    "    MomentCurvatureResults,\n",
    "    MomentInteractionResults,\n",
    ")"
   ]
  },
  {
   "cell_type": "code",
   "execution_count": null,
   "id": "18345465-3237-4112-8532-4e1364f13b60",
   "metadata": {},
   "outputs": [],
   "source": []
  }
 ],
 "metadata": {
  "kernelspec": {
   "display_name": "concrete-properties",
   "language": "python",
   "name": "concrete-properties"
  },
  "language_info": {
   "codemirror_mode": {
    "name": "ipython",
    "version": 3
   },
   "file_extension": ".py",
   "mimetype": "text/x-python",
   "name": "python",
   "nbconvert_exporter": "python",
   "pygments_lexer": "ipython3",
   "version": "3.12.5"
  }
 },
 "nbformat": 4,
 "nbformat_minor": 5
}
