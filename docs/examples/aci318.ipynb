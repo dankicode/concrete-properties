{
 "cells": [
  {
   "cell_type": "code",
   "execution_count": 1,
   "id": "fbc6a923-56da-4d00-926c-93f2df8ef950",
   "metadata": {},
   "outputs": [
    {
     "ename": "ImportError",
     "evalue": "cannot import name 'ACI318' from 'concreteproperties.design_codes' (/opt/homebrew/Caskroom/miniforge/base/envs/pfse/lib/python3.12/site-packages/concreteproperties/design_codes/__init__.py)",
     "output_type": "error",
     "traceback": [
      "\u001b[0;31m---------------------------------------------------------------------------\u001b[0m",
      "\u001b[0;31mImportError\u001b[0m                               Traceback (most recent call last)",
      "Cell \u001b[0;32mIn[1], line 11\u001b[0m\n\u001b[1;32m      3\u001b[0m \u001b[38;5;28;01mfrom\u001b[39;00m \u001b[38;5;21;01msectionproperties\u001b[39;00m\u001b[38;5;21;01m.\u001b[39;00m\u001b[38;5;21;01mpre\u001b[39;00m\u001b[38;5;21;01m.\u001b[39;00m\u001b[38;5;21;01mlibrary\u001b[39;00m \u001b[38;5;28;01mimport\u001b[39;00m concrete_rectangular_section\n\u001b[1;32m      5\u001b[0m \u001b[38;5;28;01mfrom\u001b[39;00m \u001b[38;5;21;01mconcreteproperties\u001b[39;00m \u001b[38;5;28;01mimport\u001b[39;00m (\n\u001b[1;32m      6\u001b[0m     Concrete,\n\u001b[1;32m      7\u001b[0m     ConcreteSection,\n\u001b[1;32m      8\u001b[0m     ModifiedMander,\n\u001b[1;32m      9\u001b[0m     RectangularStressBlock,\n\u001b[1;32m     10\u001b[0m )\n\u001b[0;32m---> 11\u001b[0m \u001b[38;5;28;01mfrom\u001b[39;00m \u001b[38;5;21;01mconcreteproperties\u001b[39;00m\u001b[38;5;21;01m.\u001b[39;00m\u001b[38;5;21;01mdesign_codes\u001b[39;00m \u001b[38;5;28;01mimport\u001b[39;00m ACI318\n\u001b[1;32m     12\u001b[0m \u001b[38;5;28;01mfrom\u001b[39;00m \u001b[38;5;21;01mconcreteproperties\u001b[39;00m\u001b[38;5;21;01m.\u001b[39;00m\u001b[38;5;21;01mresults\u001b[39;00m \u001b[38;5;28;01mimport\u001b[39;00m (\n\u001b[1;32m     13\u001b[0m     BiaxialBendingResults,\n\u001b[1;32m     14\u001b[0m     MomentCurvatureResults,\n\u001b[1;32m     15\u001b[0m     MomentInteractionResults,\n\u001b[1;32m     16\u001b[0m )\n",
      "\u001b[0;31mImportError\u001b[0m: cannot import name 'ACI318' from 'concreteproperties.design_codes' (/opt/homebrew/Caskroom/miniforge/base/envs/pfse/lib/python3.12/site-packages/concreteproperties/design_codes/__init__.py)"
     ]
    }
   ],
   "source": [
    "import matplotlib.pyplot as plt\n",
    "import numpy as np\n",
    "from sectionproperties.pre.library import concrete_rectangular_section\n",
    "\n",
    "from concreteproperties import (\n",
    "    Concrete,\n",
    "    ConcreteSection,\n",
    "    ModifiedMander,\n",
    "    RectangularStressBlock,\n",
    ")\n",
    "from concreteproperties.design_codes import ACI318\n",
    "from concreteproperties.results import (\n",
    "    BiaxialBendingResults,\n",
    "    MomentCurvatureResults,\n",
    "    MomentInteractionResults,\n",
    ")"
   ]
  },
  {
   "cell_type": "code",
   "execution_count": null,
   "id": "04258b3b-f443-4b05-bc9b-6e77af4949ba",
   "metadata": {},
   "outputs": [],
   "source": []
  }
 ],
 "metadata": {
  "kernelspec": {
   "display_name": "Python 3 (pfse)",
   "language": "python",
   "name": "pfse"
  },
  "language_info": {
   "codemirror_mode": {
    "name": "ipython",
    "version": 3
   },
   "file_extension": ".py",
   "mimetype": "text/x-python",
   "name": "python",
   "nbconvert_exporter": "python",
   "pygments_lexer": "ipython3",
   "version": "3.12.3"
  }
 },
 "nbformat": 4,
 "nbformat_minor": 5
}
